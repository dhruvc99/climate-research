{
 "cells": [
  {
   "cell_type": "code",
   "execution_count": 1,
   "id": "sticky-present",
   "metadata": {},
   "outputs": [],
   "source": [
    "import matplotlib.pyplot as plt\n",
    "import cartopy.feature as cfeature\n",
    "import cartopy.crs as ccrs"
   ]
  },
  {
   "cell_type": "code",
   "execution_count": 2,
   "id": "coupled-timing",
   "metadata": {},
   "outputs": [],
   "source": [
    "def basic_map(data, title,Europe=False,colorbar=True):\n",
    "    \n",
    "    extent = [-130, -65, 25, 65]\n",
    "    \n",
    "    if Europe:\n",
    "         extent = [-11.25, 40, 35, 75]\n",
    "    \n",
    "    fig = plt.figure(figsize=(12, 6))\n",
    "    \n",
    "    ax = fig.add_subplot(1,1,1,projection=ccrs.PlateCarree())\n",
    "    ax.set_extent(extent, crs=ccrs.PlateCarree())\n",
    "    plt.contourf(data.lon, data.lat,data,cmap='coolwarm',levels=2)\n",
    "    if colorbar:\n",
    "        plt.colorbar(shrink = 0.5)\n",
    "\n",
    "    ax.add_feature(cfeature.OCEAN, zorder=100, edgecolor='k')\n",
    "    ax.add_feature(cfeature.LAKES, edgecolor='black')\n",
    "    plt.title(title)"
   ]
  },
  {
   "cell_type": "code",
   "execution_count": null,
   "id": "another-session",
   "metadata": {},
   "outputs": [],
   "source": []
  }
 ],
 "metadata": {
  "kernelspec": {
   "display_name": "my_env",
   "language": "python",
   "name": "my_env"
  },
  "language_info": {
   "codemirror_mode": {
    "name": "ipython",
    "version": 3
   },
   "file_extension": ".py",
   "mimetype": "text/x-python",
   "name": "python",
   "nbconvert_exporter": "python",
   "pygments_lexer": "ipython3",
   "version": "3.9.2"
  }
 },
 "nbformat": 4,
 "nbformat_minor": 5
}
