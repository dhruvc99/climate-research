{
 "cells": [
  {
   "cell_type": "code",
   "execution_count": 2,
   "id": "recognized-sellers",
   "metadata": {},
   "outputs": [],
   "source": [
    "import xarray as xr\n",
    "from CASutils import filter_utils as filt "
   ]
  },
  {
   "cell_type": "code",
   "execution_count": 3,
   "id": "honey-prisoner",
   "metadata": {},
   "outputs": [],
   "source": [
    "# input: data array at specific lat and lon point\n",
    "def remove_seasonality(data):\n",
    "    data = data.sel(time=~((data.time.dt.month==2) & (data.time.dt.day == 29)))\n",
    "    daystr = xr.DataArray(data.indexes['time'].strftime('%m-%d'), coords = data.time.coords, name=\"daystr\")\n",
    "    datseason = data.groupby(daystr).mean('time')\n",
    "    harmonics = filt.calc_season_nharm(datseason, 4, dimtime=0)\n",
    "    anoms = data.groupby(daystr)-harmonics\n",
    "    return anoms.drop('daystr')"
   ]
  },
  {
   "cell_type": "code",
   "execution_count": 4,
   "id": "efficient-rapid",
   "metadata": {},
   "outputs": [],
   "source": [
    "# input: lat,lon subset\n",
    "def subtr_jja_means(data):\n",
    "    jja_means = data.sel({'time':data['time.season']=='JJA'}).groupby('time.year').mean('time')\n",
    "    return(data.groupby('time.year') - jja_means)"
   ]
  },
  {
   "cell_type": "code",
   "execution_count": 5,
   "id": "comic-culture",
   "metadata": {},
   "outputs": [],
   "source": [
    "# input: lat,lon subset\n",
    "def div_by_jja_std(data):\n",
    "    sd_jja = data.sel({'time':data['time.season']=='JJA'}).std()\n",
    "    return( data/sd_jja)    "
   ]
  },
  {
   "cell_type": "code",
   "execution_count": 6,
   "id": "relevant-thumb",
   "metadata": {},
   "outputs": [],
   "source": [
    "# input: lat,lon subset\n",
    "def standardized_by_jja_vals(data):\n",
    "    \n",
    "    means_removed = subtr_jja_means(data) # subtract JJA means\n",
    "    means_rem_and_div_jja_std = div_by_jja_std(means_removed) # div JJA standard deviations\n",
    "    \n",
    "    return std_anoms"
   ]
  },
  {
   "cell_type": "code",
   "execution_count": 9,
   "id": "secure-shuttle",
   "metadata": {},
   "outputs": [],
   "source": [
    "def linearly_detrend(data):\n",
    "    beta = data.polyfit(dim='time', deg=1)\n",
    "    fitted_slope = xr.polyval(data['time'], beta)\n",
    "    data = data - fitted_slope['polyfit_coefficients']\n",
    "    return(data)"
   ]
  },
  {
   "cell_type": "code",
   "execution_count": 8,
   "id": "informed-divorce",
   "metadata": {},
   "outputs": [],
   "source": [
    "def us_jja_anoms(data):\n",
    "    data = data.sel({'lat': slice(25, 65), 'lon': slice(230, 295)})\n",
    "    data = data.sel({'time': (data['time.month'] >= 6) & (data['time.month'] <= 8)})\n",
    "    return(linearly_detrend(data))"
   ]
  },
  {
   "cell_type": "code",
   "execution_count": null,
   "id": "tight-passenger",
   "metadata": {},
   "outputs": [],
   "source": []
  }
 ],
 "metadata": {
  "kernelspec": {
   "display_name": "my_env",
   "language": "python",
   "name": "my_env"
  },
  "language_info": {
   "codemirror_mode": {
    "name": "ipython",
    "version": 3
   },
   "file_extension": ".py",
   "mimetype": "text/x-python",
   "name": "python",
   "nbconvert_exporter": "python",
   "pygments_lexer": "ipython3",
   "version": "3.9.2"
  }
 },
 "nbformat": 4,
 "nbformat_minor": 5
}
